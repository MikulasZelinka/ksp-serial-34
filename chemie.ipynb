{
 "cells": [
  {
   "cell_type": "markdown",
   "id": "d993aa2d-5747-4b10-886c-719cb465a56e",
   "metadata": {},
   "source": [
    "## Chemie\n",
    "\n",
    "- https://github.com/UnMolDeQuimica/manim-Chemistry\n",
    "\n",
    "`.mol` soubory (nebo `.sdf`, to je jedno) lze najít a stáhnout třeba zde: https://www.molinstincts.com/sdf-mol-file/\n",
    "\n",
    "Pak nahrát zde (v levém postranním okně) a načíst ve skriptu, jako `morphine.mol` níže."
   ]
  },
  {
   "cell_type": "code",
   "execution_count": null,
   "id": "b993a133-2eec-4dc9-9cd2-7b04389d0a09",
   "metadata": {
    "tags": []
   },
   "outputs": [],
   "source": [
    "from manim import *\n",
    "from manim_chemistry import *"
   ]
  },
  {
   "cell_type": "code",
   "execution_count": null,
   "id": "eb91adf7-4952-48d1-845e-757b10e146cb",
   "metadata": {
    "tags": []
   },
   "outputs": [],
   "source": [
    "%%manim -v WARNING -qm NamedMoleculeExample\n",
    "\n",
    "class NamedMoleculeExample(Scene):\n",
    "    def construct(self):\n",
    "        named_molecule = NamedMolecule.from_mol_file(name=\"Morphine\", filename=\"morphine.mol\")\n",
    "        # named_molecule = NamedMolecule.from_mol_file(name=\"Caffeine\", filename=\"caffeine.sdf\")\n",
    "        \n",
    "        # Animace:\n",
    "        # self.play(FadeIn(named_molecule))\n",
    "        # self.play(Rotating(named_molecule))\n",
    "        # self.play(FadeOut(named_molecule))\n",
    "        \n",
    "        # Nebo prostě jednoduché zobrazení:\n",
    "        self.add(named_molecule)"
   ]
  },
  {
   "cell_type": "code",
   "execution_count": null,
   "id": "9ef234d2-3b47-4115-b78a-58868e4331cf",
   "metadata": {},
   "outputs": [],
   "source": [
    "%%manim -v WARNING -qm TwoDMoleculeScene\n",
    "\n",
    "class TwoDMoleculeScene(Scene):\n",
    "    def construct(self):\n",
    "        morphine = MMoleculeObject.from_mol_file(\"morphine.mol\", add_bonds_numbering=True)\n",
    "        self.add(morphine)"
   ]
  },
  {
   "cell_type": "code",
   "execution_count": null,
   "id": "775f970a-3b6d-4fad-b7d2-8bea87a01787",
   "metadata": {},
   "outputs": [],
   "source": [
    "%%manim -v WARNING -qm GraphMoleculeExample\n",
    "\n",
    "class GraphMoleculeExample(Scene):\n",
    "    def construct(self):\n",
    "        graph_molecule = GraphMolecule.build_from_mol(mol_file=\"morphine.mol\")\n",
    "        self.add(graph_molecule)"
   ]
  },
  {
   "cell_type": "code",
   "execution_count": null,
   "id": "8522652a-1997-435a-8ab8-393c319b2f7c",
   "metadata": {},
   "outputs": [],
   "source": [
    "%%manim -v WARNING -qm NamedMoleculeExample\n",
    "\n",
    "class NamedMoleculeExample(Scene):\n",
    "    def construct(self):\n",
    "        # named_molecule = NamedMolecule.from_mol_file(name=\"Morphine\", filename=\"morphine.mol\")\n",
    "        named_molecule = NamedMolecule.from_mol_file(name=\"Caffeine\", filename=\"caffeine.sdf\")\n",
    "        \n",
    "        # Animace:\n",
    "        self.play(FadeIn(named_molecule))\n",
    "        self.play(Rotating(named_molecule))\n",
    "        self.play(FadeOut(named_molecule))\n",
    "        \n",
    "        # Nebo prostě jednoduché zobrazení:\n",
    "        # self.add(named_molecule)"
   ]
  },
  {
   "cell_type": "code",
   "execution_count": null,
   "id": "d60cd229-6c0f-4248-bbab-a23165329632",
   "metadata": {
    "tags": []
   },
   "outputs": [],
   "source": [
    "%%manim -v WARNING -qm DrawBohrDiagram\n",
    "\n",
    "class DrawBohrDiagram(Scene):\n",
    "    def construct(self):\n",
    "        diagram = BohrAtom(e=14, p=14, n=10)\n",
    "\n",
    "        # self.add(diagram)\n",
    "        \n",
    "        self.play(FadeIn(diagram))\n",
    "        self.play(Rotating(diagram))\n",
    "        self.play(FadeOut(diagram))"
   ]
  },
  {
   "cell_type": "code",
   "execution_count": null,
   "id": "bd6d47e0-8567-42a9-976e-c0c9c98fc18e",
   "metadata": {},
   "outputs": [],
   "source": []
  }
 ],
 "metadata": {
  "kernelspec": {
   "display_name": "Python 3 (ipykernel)",
   "language": "python",
   "name": "python3"
  },
  "language_info": {
   "codemirror_mode": {
    "name": "ipython",
    "version": 3
   },
   "file_extension": ".py",
   "mimetype": "text/x-python",
   "name": "python",
   "nbconvert_exporter": "python",
   "pygments_lexer": "ipython3",
   "version": "3.11.8"
  }
 },
 "nbformat": 4,
 "nbformat_minor": 5
}
