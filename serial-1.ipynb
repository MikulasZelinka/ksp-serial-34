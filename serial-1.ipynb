{
 "cells": [
  {
   "cell_type": "markdown",
   "id": "substantial-impact",
   "metadata": {},
   "source": [
    "# Vítej!"
   ]
  },
  {
   "cell_type": "markdown",
   "id": "first-armenia",
   "metadata": {},
   "source": [
    "Tento dokument obsahuje zdrojové kódy animací k této sérii seriálu, které jdou upravovat a přehrávat bez toho, aby bylo potřeba cokoliv instalovat. Části dokumentu, u kterých je nalevo `In [ ]:` obsahují kód a jdou spustit - stačí je levým tlačítkem vybrat a nahoře zmáčkout `▶`."
   ]
  },
  {
   "cell_type": "markdown",
   "id": "badc1af7",
   "metadata": {},
   "source": [
    "Zkus to u následujícího příkazu, který pro zbytek dokumentu importuje všechno potřebné pro spouštění Manimu (bez něho animace nepoběží)."
   ]
  },
  {
   "cell_type": "code",
   "execution_count": null,
   "id": "e03b150c",
   "metadata": {},
   "outputs": [],
   "source": [
    "from manim import *"
   ]
  },
  {
   "cell_type": "markdown",
   "id": "honest-cruise",
   "metadata": {},
   "source": [
    "## KSP logo"
   ]
  },
  {
   "cell_type": "markdown",
   "id": "governing-increase",
   "metadata": {},
   "source": [
    "Animace loga KSP z úvodu seriálu (je v pořádku, že všechny jeho části vám ještě nemusejí dávat smysl)."
   ]
  },
  {
   "cell_type": "code",
   "execution_count": null,
   "id": "wound-foundation",
   "metadata": {},
   "outputs": [],
   "source": [
    "%%manim -v WARNING -qm KSPLogo\n",
    "\n",
    "\n",
    "class KSPLogo(Scene):\n",
    "    def construct(self):\n",
    "        # na černém pozadí hrošík není vidět...\n",
    "        self.camera.background_color = WHITE\n",
    "        \n",
    "        hroch = SVGMobject(\"serial-1/hroch.svg\").scale(2)\n",
    "        self.play(Write(hroch))\n",
    "\n",
    "        logo = Tex(\"KSP\", color=BLACK).scale(2.5)\n",
    "        self.bring_to_back(logo)\n",
    "\n",
    "        self.play(logo.animate.shift(DOWN * 2.0), hroch.animate.shift(UP * 0.6))\n",
    "        "
   ]
  },
  {
   "cell_type": "markdown",
   "id": "e6050303",
   "metadata": {},
   "source": [
    "Příkaz `manim -v WARNING -qm KSPLogo` volá program Manim na scénu `KSPLogo`. Část `-v WARNING` tlumí výpis nedůležitých informací a `-qm` nastavuje kvalitu (`q`uality) videa na střední (`m`edium)."
   ]
  },
  {
   "cell_type": "markdown",
   "id": "1fa02f58",
   "metadata": {},
   "source": [
    "## Úvod"
   ]
  },
  {
   "cell_type": "code",
   "execution_count": null,
   "id": "d63a1c09",
   "metadata": {},
   "outputs": [],
   "source": [
    "%%manim -v WARNING -qm Intro\n",
    "\n",
    "class Intro(Scene):\n",
    "    def construct(self):\n",
    "        # vytvoření objektů čtverce a kruhu (a jejich posunutí)\n",
    "        square = Square(color=RED).shift(LEFT * 2)\n",
    "        circle = Circle(color=BLUE).shift(RIGHT * 2)\n",
    "        \n",
    "        # napsaní čtverce a kruhu na scénu\n",
    "        self.play(Write(square), Write(circle))\n",
    "        \n",
    "        # zmizení čtverce a kruhu ze scény\n",
    "        self.play(FadeOut(square), FadeOut(circle))"
   ]
  },
  {
   "cell_type": "markdown",
   "id": "ed91705e",
   "metadata": {},
   "source": [
    "## `animate` syntax"
   ]
  },
  {
   "cell_type": "code",
   "execution_count": null,
   "id": "870dad88",
   "metadata": {},
   "outputs": [],
   "source": [
    "%%manim -v WARNING -qm Intro\n",
    "\n",
    "class Intro(Scene):\n",
    "    def construct(self):\n",
    "        square = Square(color=RED).shift(LEFT * 2)\n",
    "        circle = Circle(color=BLUE).shift(RIGHT * 2)\n",
    "        \n",
    "        self.play(Write(square), Write(circle))\n",
    "        \n",
    "        # posunutí objektů\n",
    "        self.play(square.animate.shift(UP * 0.5), circle.animate.shift(DOWN * 0.5))\n",
    "        \n",
    "        # otočení a vybarvení čtverce\n",
    "        # zvětšení a vybarvení kruhu\n",
    "        self.play(\n",
    "            square.animate.rotate(PI / 2).set_fill(RED, 0.8),\n",
    "            circle.animate.scale(2).set_fill(BLUE, 0.8),\n",
    "        )\n"
   ]
  }
 ],
 "metadata": {
  "kernelspec": {
   "display_name": "Python 3 (ipykernel)",
   "language": "python",
   "name": "python3"
  },
  "language_info": {
   "codemirror_mode": {
    "name": "ipython",
    "version": 3
   },
   "file_extension": ".py",
   "mimetype": "text/x-python",
   "name": "python",
   "nbconvert_exporter": "python",
   "pygments_lexer": "ipython3",
   "version": "3.9.7"
  }
 },
 "nbformat": 4,
 "nbformat_minor": 5
}
