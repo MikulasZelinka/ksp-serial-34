{
 "cells": [
  {
   "cell_type": "markdown",
   "id": "substantial-impact",
   "metadata": {},
   "source": [
    "# Vítej!"
   ]
  },
  {
   "cell_type": "markdown",
   "id": "first-armenia",
   "metadata": {},
   "source": [
    "Tento dokument obsahuje zdrojové kódy animací k této sérii seriálu, které jdou upravovat a přehrávat bez toho, aby bylo potřeba cokoliv instalovat. Části dokumentu, u kterých je nalevo `In [ ]:` obsahují kód a jdou spustit - stačí je levým tlačítkem vybrat a nahoře zmáčkout `▶ Run`."
   ]
  },
  {
   "cell_type": "markdown",
   "id": "badc1af7",
   "metadata": {},
   "source": [
    "Zkus to u následujícího příkazu, který pro zbytek dokumentu importuje všechno potřebné pro spouštění Manimu."
   ]
  },
  {
   "cell_type": "code",
   "execution_count": null,
   "id": "e03b150c",
   "metadata": {},
   "outputs": [],
   "source": [
    "from manim import *"
   ]
  },
  {
   "cell_type": "markdown",
   "id": "honest-cruise",
   "metadata": {},
   "source": [
    "## KSP logo"
   ]
  },
  {
   "cell_type": "markdown",
   "id": "governing-increase",
   "metadata": {},
   "source": [
    "Animace loga KSP z úvodu seriálu. Příkaz `manim -v WARNING -qm KSPLogo` volá program Manim na scénu `KSPLogo`. Část `-v WARNING` tlumí výpis nedůležitých informací a `-qm` nastavuje kvalitu (`q`uality) na střední (`m`edium)."
   ]
  },
  {
   "cell_type": "code",
   "execution_count": null,
   "id": "wound-foundation",
   "metadata": {},
   "outputs": [],
   "source": [
    "%%manim -v WARNING -qm KSPLogo\n",
    "\n",
    "# na černém pozadí hrošík není vidět...\n",
    "config.background_color = WHITE\n",
    "\n",
    "class KSPLogo(Scene):\n",
    "    def construct(self):\n",
    "        hroch = SVGMobject(\"serial-1/hroch.svg\").scale(2)\n",
    "        self.play(Write(hroch))\n",
    "\n",
    "        logo = Tex(\"KSP\", color=BLACK).scale(2.5)\n",
    "        self.bring_to_back(logo)\n",
    "\n",
    "        self.play(logo.animate.shift(DOWN * 2.0), hroch.animate.shift(UP * 0.6))\n",
    "        \n",
    "        # vrácení pozadí do původního stavu\n",
    "        config.background_color = BLACK\n",
    "        "
   ]
  }
 ],
 "metadata": {
  "kernelspec": {
   "display_name": "Python 3 (ipykernel)",
   "language": "python",
   "name": "python3"
  },
  "language_info": {
   "codemirror_mode": {
    "name": "ipython",
    "version": 3
   },
   "file_extension": ".py",
   "mimetype": "text/x-python",
   "name": "python",
   "nbconvert_exporter": "python",
   "pygments_lexer": "ipython3",
   "version": "3.9.7"
  }
 },
 "nbformat": 4,
 "nbformat_minor": 5
}
